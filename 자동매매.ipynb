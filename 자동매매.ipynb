{
 "cells": [
  {
   "cell_type": "code",
   "execution_count": 2,
   "metadata": {},
   "outputs": [],
   "source": [
    "from pykiwoom.kiwoom import *\n",
    "import time\n",
    "\n",
    "\n",
    "# 키움 API 연결\n",
    "kiwoom = Kiwoom()\n",
    "kiwoom.CommConnect(block=True)"
   ]
  },
  {
   "cell_type": "code",
   "execution_count": 4,
   "metadata": {},
   "outputs": [],
   "source": [
    "from datetime import datetime"
   ]
  },
  {
   "cell_type": "code",
   "execution_count": 5,
   "metadata": {},
   "outputs": [
    {
     "data": {
      "text/html": [
       "<div>\n",
       "<style scoped>\n",
       "    .dataframe tbody tr th:only-of-type {\n",
       "        vertical-align: middle;\n",
       "    }\n",
       "\n",
       "    .dataframe tbody tr th {\n",
       "        vertical-align: top;\n",
       "    }\n",
       "\n",
       "    .dataframe thead th {\n",
       "        text-align: right;\n",
       "    }\n",
       "</style>\n",
       "<table border=\"1\" class=\"dataframe\">\n",
       "  <thead>\n",
       "    <tr style=\"text-align: right;\">\n",
       "      <th></th>\n",
       "      <th>KBSTAR 중기우량회사채</th>\n",
       "      <th>KOSEF 코스피100</th>\n",
       "      <th>TIGER 미국S&amp;P500</th>\n",
       "      <th>KODEX 미국채10년선물</th>\n",
       "      <th>TIGER 원유선물Enhanced(H)</th>\n",
       "    </tr>\n",
       "  </thead>\n",
       "  <tbody>\n",
       "    <tr>\n",
       "      <th>Sell &amp; Buy &amp; NO</th>\n",
       "      <td>sell</td>\n",
       "      <td>no</td>\n",
       "      <td>no</td>\n",
       "      <td>sell</td>\n",
       "      <td>no</td>\n",
       "    </tr>\n",
       "    <tr>\n",
       "      <th>Quantity</th>\n",
       "      <td>1</td>\n",
       "      <td>0</td>\n",
       "      <td>0</td>\n",
       "      <td>1</td>\n",
       "      <td>0</td>\n",
       "    </tr>\n",
       "  </tbody>\n",
       "</table>\n",
       "</div>"
      ],
      "text/plain": [
       "                KBSTAR 중기우량회사채 KOSEF 코스피100 TIGER 미국S&P500 KODEX 미국채10년선물  \\\n",
       "Sell & Buy & NO           sell           no             no           sell   \n",
       "Quantity                     1            0              0              1   \n",
       "\n",
       "                TIGER 원유선물Enhanced(H)  \n",
       "Sell & Buy & NO                    no  \n",
       "Quantity                            0  "
      ]
     },
     "execution_count": 5,
     "metadata": {},
     "output_type": "execute_result"
    }
   ],
   "source": [
    "data = pd.read_excel(rf'auto_sell_buy_{datetime.today().month}_{datetime.today().day}.xlsx', index_col=0)\n",
    "data"
   ]
  },
  {
   "cell_type": "code",
   "execution_count": 6,
   "metadata": {},
   "outputs": [],
   "source": [
    "# 주식계좌\n",
    "accounts = kiwoom.GetLoginInfo(\"ACCNO\")\n",
    "stock_account = accounts[0]\n",
    "\n",
    "# 삼성전자, 10주, 시장가주문 매수\n",
    "def buy(ticker, quantitiy):\n",
    "    kiwoom.SendOrder(\"시장가매수\", \"0101\", stock_account, 1, ticker, quantitiy, 0, \"03\", \"\")\n",
    "    time.sleep(0.2)\n",
    "    print(\"매수 완료\")\n",
    "\n",
    "def sell(ticker, quantitiy):\n",
    "    kiwoom.SendOrder(\"시장가매도\", \"0101\", stock_account, 2, ticker, quantitiy, 0, \"03\", \"\")\n",
    "    time.sleep(0.2)\n",
    "    print(\"매수 완료\")"
   ]
  },
  {
   "cell_type": "code",
   "execution_count": 7,
   "metadata": {},
   "outputs": [
    {
     "name": "stdout",
     "output_type": "stream",
     "text": [
      "매수 완료\n",
      "매수 완료\n"
     ]
    }
   ],
   "source": [
    "ticker_list = ['136340','153270','360750','308620','130680']\n",
    "\n",
    "for i in range(0, len(data.columns)):\n",
    "    if data.iloc[0][i] == 'sell':\n",
    "        quantitiy = data.iloc[1][i]\n",
    "        ticker = ticker_list[i]\n",
    "        sell(ticker, quantitiy)\n",
    "\n",
    "    elif data.iloc[0][i] == 'buy':\n",
    "        quantitiy = data.iloc[1][i]\n",
    "        ticker = ticker_list[i]\n",
    "        buy(ticker, quantitiy)"
   ]
  },
  {
   "cell_type": "code",
   "execution_count": 13,
   "metadata": {},
   "outputs": [],
   "source": [
    "def buy():\n",
    "    kiwoom.SendOrder(\"시장가매수\", \"0101\", stock_account, 1, '136340', 2, 0, \"03\", \"\")\n",
    "    time.sleep(0.2)\n",
    "    print(\"매수 완료\")"
   ]
  },
  {
   "cell_type": "code",
   "execution_count": 15,
   "metadata": {},
   "outputs": [
    {
     "name": "stdout",
     "output_type": "stream",
     "text": [
      "매수 완료\n"
     ]
    }
   ],
   "source": [
    "buy()"
   ]
  },
  {
   "cell_type": "code",
   "execution_count": null,
   "metadata": {},
   "outputs": [],
   "source": []
  }
 ],
 "metadata": {
  "kernelspec": {
   "display_name": "Python 3",
   "language": "python",
   "name": "python3"
  },
  "language_info": {
   "codemirror_mode": {
    "name": "ipython",
    "version": 3
   },
   "file_extension": ".py",
   "mimetype": "text/x-python",
   "name": "python",
   "nbconvert_exporter": "python",
   "pygments_lexer": "ipython3",
   "version": "3.8.5"
  },
  "orig_nbformat": 4
 },
 "nbformat": 4,
 "nbformat_minor": 2
}
